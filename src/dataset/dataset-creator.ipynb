{
 "cells": [
  {
   "cell_type": "code",
   "execution_count": 36,
   "metadata": {},
   "outputs": [],
   "source": [
    "import pandas as pd\n",
    "import numpy as np\n",
    "from faker import Faker\n",
    "import random"
   ]
  },
  {
   "cell_type": "code",
   "execution_count": 37,
   "metadata": {},
   "outputs": [],
   "source": [
    "fake = Faker('pt_BR')\n",
    "Faker.seed(42)\n",
    "random.seed(42)"
   ]
  },
  {
   "cell_type": "code",
   "execution_count": 38,
   "metadata": {},
   "outputs": [],
   "source": [
    "# Função para simular erros de dados\n",
    "def introduce_errors(row):\n",
    "    # Introduzir valores nulos\n",
    "    if random.random() < 0.1:\n",
    "        row['Salário'] = np.nan\n",
    "    if random.random() < 0.1:\n",
    "        row['Idade'] = np.nan\n",
    "    \n",
    "    # Introduzir outliers\n",
    "    if random.random() < 0.05:\n",
    "        row['Idade'] = random.choice([-5, 120, 150])  # Outliers\n",
    "    if random.random() < 0.05:\n",
    "        row['Salário'] = random.choice([-100.0, 999999.99])  # Outliers\n",
    "    \n",
    "    # Introduzir formatações incorretas\n",
    "    if random.random() < 0.05:\n",
    "        row['Data_Nascimento'] = fake.date(pattern=\"%d/%m/%Y\")  # Formato dd/mm/yyyy\n",
    "    if random.random() < 0.05:\n",
    "        row['Email'] = row['Email'].replace('@', '')  # Remove o '@' para simular e-mail incorreto\n",
    "    \n",
    "    return row\n"
   ]
  },
  {
   "cell_type": "code",
   "execution_count": 39,
   "metadata": {},
   "outputs": [],
   "source": [
    "# Lista para armazenar os dados simulados\n",
    "data = []"
   ]
  },
  {
   "cell_type": "code",
   "execution_count": 40,
   "metadata": {},
   "outputs": [],
   "source": [
    "# Gerar 20 registros com Faker\n",
    "for _ in range(1000):\n",
    "    # Gerar dados reais\n",
    "    nome = fake.name()\n",
    "    idade = random.randint(18, 80)  # Idade entre 18 e 80 anos\n",
    "    salario = round(random.uniform(1500, 10000), 2)  # Salário entre 1500 e 10000\n",
    "    data_nascimento = fake.date_of_birth(minimum_age=18, maximum_age=80).strftime(\"%Y-%m-%d\")\n",
    "    email = fake.email()\n",
    "    valor_compra = round(random.uniform(100, 5000), 2)  # Valor da compra entre 100 e 5000\n",
    "    data_transacao = fake.date_this_year().strftime(\"%Y-%m-%d\")\n",
    "    \n",
    "    # Criar uma linha do dataset\n",
    "    row = {\n",
    "        'ID_Cliente': _ + 1,\n",
    "        'Nome': nome,\n",
    "        'Idade': idade,\n",
    "        'Salário': salario,\n",
    "        'Data_Nascimento': data_nascimento,\n",
    "        'Email': email,\n",
    "        'Valor_Compra': valor_compra,\n",
    "        'Data_Transacao': data_transacao\n",
    "    }\n",
    "    \n",
    "    # Introduzir erros no dado\n",
    "    row = introduce_errors(row)\n",
    "    \n",
    "    # Adicionar a linha ao dataset\n",
    "    data.append(row)"
   ]
  },
  {
   "cell_type": "code",
   "execution_count": 41,
   "metadata": {},
   "outputs": [
    {
     "name": "stdout",
     "output_type": "stream",
     "text": [
      "     ID_Cliente                    Nome  Idade  Salário Data_Nascimento  \\\n",
      "0             1            Brenda Alves   58.0  2446.31      1990-06-08   \n",
      "1             2      Dra. Aurora Pastor    NaN  1753.28      1970-04-19   \n",
      "2             3     Gael Henrique Silva   55.0  3864.62      1984-08-29   \n",
      "3             4         Emanuel Sampaio   24.0  2288.34      1970-05-05   \n",
      "4             5  Luiz Henrique Ferreira   42.0  2169.80      1981-10-02   \n",
      "..          ...                     ...    ...      ...             ...   \n",
      "995         996        Evelyn Gonçalves   49.0  6176.05      1946-02-05   \n",
      "996         997          Nicole Azevedo   71.0  8517.93      19/01/2016   \n",
      "997         998          Antony Pereira   21.0  7265.64      1950-01-18   \n",
      "998         999   João Gabriel Cassiano   33.0  6749.71      1971-06-24   \n",
      "999        1000           Helena Macedo   45.0  3186.51      1987-08-12   \n",
      "\n",
      "                                Email  Valor_Compra Data_Transacao  \n",
      "0          pietrocarvalho@example.net       3733.60     2024-01-27  \n",
      "1    borgespedro-henrique@example.org       1171.33     2024-05-12  \n",
      "2                 ccamara@example.net       4359.57     2024-03-14  \n",
      "3              leonardo35@example.org        573.91     2024-01-25  \n",
      "4     siqueiramaria-clara@example.net       1536.57     2024-02-02  \n",
      "..                                ...           ...            ...  \n",
      "995                 ian25@example.net       4019.12     2024-07-15  \n",
      "996          lunacarvalho@example.com        743.95     2024-08-03  \n",
      "997               josue86@example.org       1776.49     2024-01-21  \n",
      "998            pedrosilva@example.org       3673.32     2024-08-22  \n",
      "999          gomesana-liz@example.com       3561.66     2024-01-14  \n",
      "\n",
      "[1000 rows x 8 columns]\n"
     ]
    }
   ],
   "source": [
    "# Criar um DataFrame a partir da lista de dados simulados\n",
    "df = pd.DataFrame(data)\n",
    "\n",
    "# Mostrar o DataFrame\n",
    "print(df)"
   ]
  },
  {
   "cell_type": "code",
   "execution_count": 42,
   "metadata": {},
   "outputs": [],
   "source": [
    "# Salvando o DataFrame em um arquivo CSV\n",
    "df.to_csv('dataset_simulado.csv', index=False)"
   ]
  }
 ],
 "metadata": {
  "kernelspec": {
   "display_name": ".venv",
   "language": "python",
   "name": "python3"
  },
  "language_info": {
   "codemirror_mode": {
    "name": "ipython",
    "version": 3
   },
   "file_extension": ".py",
   "mimetype": "text/x-python",
   "name": "python",
   "nbconvert_exporter": "python",
   "pygments_lexer": "ipython3",
   "version": "3.10.12"
  }
 },
 "nbformat": 4,
 "nbformat_minor": 2
}
